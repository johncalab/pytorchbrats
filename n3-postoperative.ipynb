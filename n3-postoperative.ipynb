{
 "cells": [
  {
   "cell_type": "code",
   "execution_count": 46,
   "metadata": {},
   "outputs": [],
   "source": [
    "import torch\n",
    "import torch.nn as nn\n",
    "import numpy as np\n",
    "import matplotlib.pyplot as plt\n",
    "from themodel import *\n",
    "from thedataset import brats3dDataset\n",
    "\n",
    "brats_ds = brats3dDataset('ignore/data/numpyData32')"
   ]
  },
  {
   "cell_type": "code",
   "execution_count": 41,
   "metadata": {},
   "outputs": [],
   "source": [
    "def show_log(path):\n",
    "    with open(\"models/190715_113556.log\") as f:\n",
    "        loghead = ''.join([next(f) for x in range(11)])\n",
    "        full = f.readlines()\n",
    "    print(loghead)\n",
    "    print(full[-2])\n",
    "    print(full[-1])\n",
    "\n",
    "def show_diff(model,dataset,ITEM=7,SLICE=50):\n",
    "    x,y = dataset.__getitem__(ITEM)\n",
    "    x = x.unsqueeze(0)\n",
    "    y = y.unsqueeze(0)\n",
    "    model.eval()\n",
    "    y_pred = model(x)\n",
    "    y_pred = torch.sigmoid(y_pred).round()\n",
    "    \n",
    "    npy = y.numpy()[0,:,:,SLICE]\n",
    "    npy_pred = y_pred.cpu().detach().numpy()[0,:,:,SLICE]\n",
    "\n",
    "    plt.figure(figsize=(10,10))\n",
    "\n",
    "    plt.subplot(121)\n",
    "    plt.axis('off')\n",
    "    plt.imshow(npy_pred)\n",
    "\n",
    "    plt.subplot(122)\n",
    "    plt.axis('off')\n",
    "    plt.imshow(npy)\n",
    "\n",
    "    plt.show()"
   ]
  },
  {
   "cell_type": "code",
   "execution_count": 42,
   "metadata": {},
   "outputs": [
    {
     "name": "stdout",
     "output_type": "stream",
     "text": [
      "Curtis Hebe strated training.\n",
      "Model is ConvSeq.\n",
      "Resolution is 32.\n",
      "Loss is iou.\n",
      "Score is iou.\n",
      "NumEpochs is 100.\n",
      "Batch Length is 8.\n",
      "Optimizer is SGD.\n",
      "Learning rate is 0.01.\n",
      "Momentum is 0.9.\n",
      "Valid/Train ratio is 0.25.\n",
      "\n",
      "Saving model.\n",
      "\n",
      "models/190715_113556_model.pt\n"
     ]
    }
   ],
   "source": [
    "show_log(\"models/190715_113556.log\")"
   ]
  },
  {
   "cell_type": "markdown",
   "metadata": {},
   "source": [
    "![](models/190715_113556_plot.png)"
   ]
  },
  {
   "cell_type": "code",
   "execution_count": 47,
   "metadata": {},
   "outputs": [
    {
     "data": {
      "image/png": "[encoded data removed]",
      "text/plain": [
       "<Figure size 720x720 with 2 Axes>"
      ]
     },
     "metadata": {
      "needs_background": "light"
     },
     "output_type": "display_data"
    }
   ],
   "source": [
    "model = ConvSeq()\n",
    "model.load_state_dict(torch.load('models/190715_113556_model.pt', map_location='cpu'))\n",
    "show_diff(model=model,dataset=brats_ds, ITEM=7, SLICE=50)"
   ]
  },
  {
   "cell_type": "markdown",
   "metadata": {},
   "source": [
    "![](models/190716_111819_pred.gif)![](models/190716_111819_target.gif)"
   ]
  },
  {
   "cell_type": "code",
   "execution_count": null,
   "metadata": {},
   "outputs": [],
   "source": []
  }
 ],
 "metadata": {
  "kernelspec": {
   "display_name": "Python 3",
   "language": "python",
   "name": "python3"
  },
  "language_info": {
   "codemirror_mode": {
    "name": "ipython",
    "version": 3
   },
   "file_extension": ".py",
   "mimetype": "text/x-python",
   "name": "python",
   "nbconvert_exporter": "python",
   "pygments_lexer": "ipython3",
   "version": "3.7.3"
  }
 },
 "nbformat": 4,
 "nbformat_minor": 4
}
