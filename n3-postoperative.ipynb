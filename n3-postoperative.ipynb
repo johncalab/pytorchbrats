{
 "cells": [
  {
   "cell_type": "code",
   "execution_count": 31,
   "metadata": {},
   "outputs": [],
   "source": [
    "import torch\n",
    "import torch.nn as nn\n",
    "import numpy as np\n",
    "import matplotlib.pyplot as plt"
   ]
  },
  {
   "cell_type": "code",
   "execution_count": 33,
   "metadata": {},
   "outputs": [
    {
     "data": {
      "text/plain": [
       "IncompatibleKeys(missing_keys=[], unexpected_keys=[])"
      ]
     },
     "execution_count": 33,
     "metadata": {},
     "output_type": "execute_result"
    }
   ],
   "source": [
    "from themodel import ConvSeq\n",
    "model = ConvSeq()\n",
    "model.load_state_dict(torch.load('models/201907130244model.pt'))"
   ]
  },
  {
   "cell_type": "code",
   "execution_count": 34,
   "metadata": {},
   "outputs": [],
   "source": [
    "from thedataset import brats3dDataset\n",
    "dataset = brats3dDataset('ignore/data/numpyData32')"
   ]
  },
  {
   "cell_type": "code",
   "execution_count": 38,
   "metadata": {},
   "outputs": [],
   "source": [
    "ITEM = 7\n",
    "x,y = dataset.__getitem__(ITEM)\n",
    "x = x.unsqueeze(0)\n",
    "y = y.unsqueeze(0)\n",
    "model.eval()\n",
    "y_pred = model(x)\n",
    "y_pred = torch.sigmoid(y_pred).round()"
   ]
  },
  {
   "cell_type": "code",
   "execution_count": 48,
   "metadata": {},
   "outputs": [
    {
     "data": {
      "image/png": "[encoded data removed]",
      "text/plain": [
       "<Figure size 720x720 with 2 Axes>"
      ]
     },
     "metadata": {
      "needs_background": "light"
     },
     "output_type": "display_data"
    }
   ],
   "source": [
    "SLICE = 26\n",
    "npy = y.numpy()[0,:,:,SLICE]\n",
    "npy_pred = y_pred.cpu().detach().numpy()[0,:,:,SLICE]\n",
    "\n",
    "plt.figure(figsize=(10,10))\n",
    "\n",
    "plt.subplot(121)\n",
    "plt.axis('off')\n",
    "plt.imshow(npy_pred)\n",
    "\n",
    "plt.subplot(122)\n",
    "plt.axis('off')\n",
    "plt.imshow(npy)\n",
    "\n",
    "plt.show()"
   ]
  },
  {
   "cell_type": "code",
   "execution_count": null,
   "metadata": {},
   "outputs": [],
   "source": []
  }
 ],
 "metadata": {
  "kernelspec": {
   "display_name": "Python 3",
   "language": "python",
   "name": "python3"
  },
  "language_info": {
   "codemirror_mode": {
    "name": "ipython",
    "version": 3
   },
   "file_extension": ".py",
   "mimetype": "text/x-python",
   "name": "python",
   "nbconvert_exporter": "python",
   "pygments_lexer": "ipython3",
   "version": "3.7.3"
  }
 },
 "nbformat": 4,
 "nbformat_minor": 4
}
