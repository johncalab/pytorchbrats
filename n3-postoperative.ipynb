{
 "cells": [
  {
   "cell_type": "code",
   "execution_count": 1,
   "metadata": {},
   "outputs": [],
   "source": [
    "import torch\n",
    "import torch.nn as nn\n",
    "import numpy as np\n",
    "import matplotlib.pyplot as plt\n",
    "from themodel import *\n",
    "from thedataset import brats3dDataset\n",
    "brats_ds = brats3dDataset('ignore/data/numpyData32')"
   ]
  },
  {
   "cell_type": "code",
   "execution_count": 6,
   "metadata": {},
   "outputs": [],
   "source": [
    "def show_log(path):\n",
    "    with open(path) as f:\n",
    "        loghead = ''.join([next(f) for x in range(11)])\n",
    "        full = f.readlines()\n",
    "    print(loghead)\n",
    "    print(full[-1])\n",
    "\n",
    "def show_diff(model,dataset,ITEM=7,SLICE=50):\n",
    "    x,y = dataset.__getitem__(ITEM)\n",
    "    x = x.unsqueeze(0)\n",
    "    y = y.unsqueeze(0)\n",
    "    model.eval()\n",
    "    y_pred = model(x)\n",
    "    y_pred = torch.sigmoid(y_pred).round()\n",
    "    \n",
    "    npy = y.numpy()[0,:,:,SLICE]\n",
    "    npy_pred = y_pred.cpu().detach().numpy()[0,:,:,SLICE]\n",
    "\n",
    "    plt.figure(figsize=(10,10))\n",
    "\n",
    "    plt.subplot(121)\n",
    "    plt.axis('off')\n",
    "    plt.imshow(npy_pred)\n",
    "\n",
    "    plt.subplot(122)\n",
    "    plt.axis('off')\n",
    "    plt.imshow(npy)\n",
    "\n",
    "    plt.show()"
   ]
  },
  {
   "cell_type": "markdown",
   "metadata": {},
   "source": [
    "# Crush\n",
    "Id: 190716_115355  \n",
    "Name: Yueekjo Kanos'eo"
   ]
  },
  {
   "cell_type": "code",
   "execution_count": 10,
   "metadata": {},
   "outputs": [
    {
     "name": "stdout",
     "output_type": "stream",
     "text": [
      "Yueekjo_Kanos'eo strated training.\n",
      "Model is Crush.\n",
      "Resolution is 32.\n",
      "Loss is iou.\n",
      "Score is iou.\n",
      "NumEpochs is 500.\n",
      "Batch Length is 8.\n",
      "Optimizer is SGD.\n",
      "Learning rate is 0.01.\n",
      "Momentum is 0.9.\n",
      "Valid/Train ratio is 0.25.\n",
      "\n",
      "The best model was achieved during epoch 499.\n"
     ]
    }
   ],
   "source": [
    "show_log(\"models/190716_115355.log\")"
   ]
  },
  {
   "cell_type": "markdown",
   "metadata": {},
   "source": [
    "![](models/190716_115355_plot.png)"
   ]
  },
  {
   "cell_type": "markdown",
   "metadata": {},
   "source": [
    "![](models/190716_115355_pred.gif)\n",
    "![](models/190716_115355_target.gif)"
   ]
  },
  {
   "cell_type": "markdown",
   "metadata": {},
   "source": [
    "# ConvSeq\n",
    "Id: 190716_121335  \n",
    "Name: Tuobiewir Kazhim"
   ]
  },
  {
   "cell_type": "code",
   "execution_count": 11,
   "metadata": {},
   "outputs": [
    {
     "name": "stdout",
     "output_type": "stream",
     "text": [
      "Tuobiewir_Kazhim strated training.\n",
      "Model is ConvSeq.\n",
      "Resolution is 32.\n",
      "Loss is iou.\n",
      "Score is iou.\n",
      "NumEpochs is 500.\n",
      "Batch Length is 8.\n",
      "Optimizer is SGD.\n",
      "Learning rate is 0.01.\n",
      "Momentum is 0.9.\n",
      "Valid/Train ratio is 0.25.\n",
      "\n",
      "The best model was achieved during epoch 246.\n"
     ]
    }
   ],
   "source": [
    "show_log(\"models/190716_121335.log\")"
   ]
  },
  {
   "cell_type": "markdown",
   "metadata": {},
   "source": [
    "![](models/190716_121335_plot.png)"
   ]
  },
  {
   "cell_type": "code",
   "execution_count": 12,
   "metadata": {},
   "outputs": [
    {
     "data": {
      "image/png": "[encoded data removed]",
      "text/plain": [
       "<Figure size 720x720 with 2 Axes>"
      ]
     },
     "metadata": {
      "needs_background": "light"
     },
     "output_type": "display_data"
    }
   ],
   "source": [
    "model = ConvSeq()\n",
    "model.load_state_dict(torch.load('models/190716_121335_Tuobiewir_Kazhim.pt', map_location='cpu'))\n",
    "show_diff(model=model,dataset=brats_ds, ITEM=7, SLICE=50)"
   ]
  },
  {
   "cell_type": "markdown",
   "metadata": {},
   "source": [
    "![](models/190716_121335_pred.gif)\n",
    "![](models/190716_121335_target.gif)"
   ]
  },
  {
   "cell_type": "markdown",
   "metadata": {},
   "source": [
    "# Small3dUcat\n",
    "Id: 190716_132404  \n",
    "Name: Uwpohknb Hamita"
   ]
  },
  {
   "cell_type": "code",
   "execution_count": 13,
   "metadata": {},
   "outputs": [
    {
     "name": "stdout",
     "output_type": "stream",
     "text": [
      "Uwpohknb_Hamita strated training.\n",
      "Model is Small3dUcat.\n",
      "Resolution is 32.\n",
      "Loss is iou.\n",
      "Score is iou.\n",
      "NumEpochs is 500.\n",
      "Batch Length is 8.\n",
      "Optimizer is SGD.\n",
      "Learning rate is 0.01.\n",
      "Momentum is 0.9.\n",
      "Valid/Train ratio is 0.25.\n",
      "\n",
      "The best model was achieved during epoch 90.\n"
     ]
    }
   ],
   "source": [
    "show_log('models/190716_132404.log')"
   ]
  },
  {
   "cell_type": "markdown",
   "metadata": {},
   "source": [
    "![](models/190716_132404_plot.png)"
   ]
  },
  {
   "cell_type": "code",
   "execution_count": 14,
   "metadata": {},
   "outputs": [
    {
     "data": {
      "image/png": "[encoded data removed]",
      "text/plain": [
       "<Figure size 720x720 with 2 Axes>"
      ]
     },
     "metadata": {
      "needs_background": "light"
     },
     "output_type": "display_data"
    }
   ],
   "source": [
    "model = Small3dUcat()\n",
    "model.load_state_dict(torch.load('models/190716_132404_Uwpohknb_Hamita.pt', map_location='cpu'))\n",
    "show_diff(model=model,dataset=brats_ds, ITEM=7, SLICE=50)"
   ]
  },
  {
   "cell_type": "markdown",
   "metadata": {},
   "source": [
    "![](models/190716_132404_pred.gif)\n",
    "![](models/190716_132404_target.gif)"
   ]
  },
  {
   "cell_type": "code",
   "execution_count": null,
   "metadata": {},
   "outputs": [],
   "source": []
  },
  {
   "cell_type": "markdown",
   "metadata": {},
   "source": [
    "# Small3dUadd\n",
    "Id: 190716_144831\n",
    "Name: Bnnbnnb Shatagata"
   ]
  },
  {
   "cell_type": "code",
   "execution_count": 16,
   "metadata": {},
   "outputs": [
    {
     "name": "stdout",
     "output_type": "stream",
     "text": [
      "Bnnbnnb_Shatagata strated training.\n",
      "Model is Small3dUadd.\n",
      "Resolution is 32.\n",
      "Loss is iou.\n",
      "Score is iou.\n",
      "NumEpochs is 500.\n",
      "Batch Length is 8.\n",
      "Optimizer is SGD.\n",
      "Learning rate is 0.01.\n",
      "Momentum is 0.9.\n",
      "Valid/Train ratio is 0.25.\n",
      "\n",
      "The best model was achieved during epoch 122.\n"
     ]
    }
   ],
   "source": [
    "show_log('models/190716_144831.log')"
   ]
  },
  {
   "cell_type": "markdown",
   "metadata": {},
   "source": [
    "![](models/190716_132404_plot.png)"
   ]
  },
  {
   "cell_type": "code",
   "execution_count": 17,
   "metadata": {},
   "outputs": [
    {
     "data": {
      "image/png": "[encoded data removed]",
      "text/plain": [
       "<Figure size 720x720 with 2 Axes>"
      ]
     },
     "metadata": {
      "needs_background": "light"
     },
     "output_type": "display_data"
    }
   ],
   "source": [
    "model = Small3dUadd()\n",
    "model.load_state_dict(torch.load('models/190716_144831_Bnnbnnb_Shatagata.pt', map_location='cpu'))\n",
    "show_diff(model=model,dataset=brats_ds, ITEM=7, SLICE=50)"
   ]
  },
  {
   "cell_type": "markdown",
   "metadata": {},
   "source": [
    "![](models/190716_144831_pred.gif)\n",
    "![](models/190716_144831_target.gif)"
   ]
  },
  {
   "cell_type": "code",
   "execution_count": null,
   "metadata": {},
   "outputs": [],
   "source": []
  }
 ],
 "metadata": {
  "kernelspec": {
   "display_name": "Python 3",
   "language": "python",
   "name": "python3"
  },
  "language_info": {
   "codemirror_mode": {
    "name": "ipython",
    "version": 3
   },
   "file_extension": ".py",
   "mimetype": "text/x-python",
   "name": "python",
   "nbconvert_exporter": "python",
   "pygments_lexer": "ipython3",
   "version": "3.7.3"
  }
 },
 "nbformat": 4,
 "nbformat_minor": 4
}
