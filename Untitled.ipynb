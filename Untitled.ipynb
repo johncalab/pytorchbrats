{
 "cells": [
  {
   "cell_type": "markdown",
   "metadata": {},
   "source": [
    "* dataset\n",
    "* training"
   ]
  },
  {
   "cell_type": "markdown",
   "metadata": {},
   "source": [
    "# Dataset class"
   ]
  },
  {
   "cell_type": "code",
   "execution_count": 2,
   "metadata": {},
   "outputs": [],
   "source": [
    "import os\n",
    "import numpy as np\n",
    "from torch.utils.data import Dataset\n",
    "\n",
    "class brats3dDataset(Dataset):\n",
    "    \"\"\"\n",
    "    Needs a rootPath.\n",
    "    Expects to find 'source' and 'target' folders.\n",
    "    Expects to deal with preprocessed numpy files.\n",
    "    \"\"\"\n",
    "    def __init__(self, rootPath):\n",
    "        self.source = []\n",
    "        self.target = []\n",
    "        # perhaps a pandas Series would be better than an array?\n",
    "        \n",
    "        pathSource = os.path.join(rootPath, 'source')\n",
    "        imgPaths = os.listdir(pathSource)\n",
    "        for path in imgPaths:\n",
    "            if path.endswith('.npy'):\n",
    "                self.source.append(os.path.join(pathSource, path))\n",
    "        \n",
    "        pathTarget = os.path.join(rootPath, 'target')\n",
    "        imgPaths = os.listdir(pathTarget)\n",
    "        for path in imgPaths:\n",
    "            if path.endswith('.npy'):\n",
    "                self.target.append(os.path.join(pathTarget, path))\n",
    "        \n",
    "    def __len__(self):\n",
    "        assert len(self.source) == len(self.target)\n",
    "        return len(self.source)\n",
    "    \n",
    "    def __getitem__(self,idx):\n",
    "        x = np.load(self.source[idx])\n",
    "        x = torch.from_numpy(x)\n",
    "        x = x.float()\n",
    "        \n",
    "        y = np.load(self.target[idx])\n",
    "        y = torch.from_numpy(y)\n",
    "        y = y.float()\n",
    "        \n",
    "        return x,y"
   ]
  },
  {
   "cell_type": "markdown",
   "metadata": {},
   "source": [
    "# Training"
   ]
  },
  {
   "cell_type": "markdown",
   "metadata": {},
   "source": [
    "# i would like for the end result to look like this\n",
    "* Initialize model.\n",
    "* Nood\n",
    "Need:\n",
    "* training helper function\n",
    "* evaluating helper function\n",
    "* write_to_log function"
   ]
  },
  {
   "cell_type": "code",
   "execution_count": null,
   "metadata": {},
   "outputs": [],
   "source": [
    "# get data\n",
    "fullDataset = brats3dDataset(rootPath)\n",
    "# split into training and validation\n",
    "valid_size = 2 # etc\n",
    "train, valid = random_split(fullDataset, [train_size,valid_size])\n",
    "\n",
    "# load data\n",
    "train_dataloader = DataLoader(train_dataset, batch_size=, shuffle=True)\n",
    "valid_dataloader = etc\n",
    "\n",
    "# initialize model\n",
    "model = mymodel()\n",
    "# define loss function\n",
    "criterion = loss_fun\n",
    "# define score\n",
    "score_fun = iou_score\n",
    "# pick optimizer\n",
    "optimizer = adam\n",
    "\n",
    "trainLosses = []\n",
    "validScores = []\n",
    "for epoch in epochs:\n",
    "    train(model)\n",
    "    update_trainLosses\n",
    "\n",
    "    evaluate(model)\n",
    "    update_validLosses\n",
    "\n",
    "    save_and_overwrite_model\n",
    "    \n",
    "save_to_log\n",
    "see some testsS\n",
    "    \n",
    "    "
   ]
  },
  {
   "cell_type": "code",
   "execution_count": null,
   "metadata": {},
   "outputs": [],
   "source": [
    "def trainingLoop(dataloader,model,criterion,optimizer,score_fun,evaluating):\n",
    "    if device and torch.cuda.is_available():\n",
    "        device = torch.device('cuda')\n",
    "    else:\n",
    "        device = torch.device('cpu')\n",
    "    \n",
    "    model.to(device)\n",
    "    if evaluating:\n",
    "        model.eval()\n",
    "    else:\n",
    "        model.train()\n",
    "    \n",
    "    for x,y in dataloader():\n",
    "        x = x.to(device)\n",
    "        y = y.to(device)\n",
    "        y_pred = model(x)\n",
    "        \n",
    "        if evaluating:\n",
    "            y_pred = torch.sigmoid(y_pred).round()\n",
    "            score = score_fun(y_pred,)\n",
    "            # compute score\n",
    "            # update scores array\n",
    "        else:\n",
    "            optimizer.zero_grad()\n",
    "            loss = criterion(y_pred,y)\n",
    "            # update losses array\n",
    "            loss.backward()\n",
    "            optimizer.step()\n",
    "            \n",
    "\n",
    "    if evaluating:\n",
    "        model.eval()\n",
    "        for x,y in dataloader:\n",
    "    else:\n",
    "        model.train()\n",
    "        for x,y in dataloader:\n",
    "            optimizer.zero_grad()\n",
    "            x = x.to(device)\n",
    "            y = y.to(device)\n",
    "            y_pred = model(y)\n",
    "            loss = criterion(y_pred,y)\n",
    "            loss.backward()\n",
    "            optimizer.step()\n",
    "            \n",
    "    \n",
    "    \n",
    "    model.train()\n",
    "    "
   ]
  }
 ],
 "metadata": {
  "kernelspec": {
   "display_name": "Python 3",
   "language": "python",
   "name": "python3"
  },
  "language_info": {
   "codemirror_mode": {
    "name": "ipython",
    "version": 3
   },
   "file_extension": ".py",
   "mimetype": "text/x-python",
   "name": "python",
   "nbconvert_exporter": "python",
   "pygments_lexer": "ipython3",
   "version": "3.7.3"
  }
 },
 "nbformat": 4,
 "nbformat_minor": 4
}
